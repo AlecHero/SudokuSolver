{
 "cells": [
  {
   "cell_type": "code",
   "execution_count": 1,
   "metadata": {},
   "outputs": [
    {
     "name": "stdout",
     "output_type": "stream",
     "text": [
      "pygame 2.1.0 (SDL 2.0.16, Python 3.9.13)\n",
      "Hello from the pygame community. https://www.pygame.org/contribute.html\n"
     ]
    }
   ],
   "source": [
    "from sudoku_solver import *\n",
    "from sudoku_game import SudokuGame\n",
    "\n",
    "EXECUTORS = [naked_singles, hidden_singles] + [naked_pairs, naked_triples, hidden_pairs, hidden_triples, naked_quads, hidden_quads, intersection_removal]\n",
    "\n",
    "gss_diabolical = SudokuLoop(SUDOKU_DIABOLICAL, EXECUTORS)\n",
    "gss_diabolical2 = SudokuLoop(SUDOKU_DIABOLICAL2, EXECUTORS)\n",
    "gss_ir = SudokuLoop(SUDOKU_INTERSECTION_REMOVAL, EXECUTORS)\n",
    "\n",
    "# SudokuGame([gss_diabolical, gss_diabolical2, gss_ir], board_names=[\"Diabolical\", \"Diabolical-2\", \"IR\"])"
   ]
  },
  {
   "cell_type": "code",
   "execution_count": 2,
   "metadata": {},
   "outputs": [],
   "source": [
    "def intersection_removal(gs: GameState) -> GameState:\n",
    "    board, candidates = gs.copy()\n",
    "    \n",
    "    for unit_type1, unit_type2 in [[\"box\", \"row\"], [\"box\", \"col\"], [\"row\", \"box\"], [\"col\", \"box\"]]:\n",
    "        for k in range(9):\n",
    "            for i in range(9):\n",
    "                for j in range(9):\n",
    "                    row_unit     = (swap_unit(UNIT_IDX, unit_type1) == i) * (swap_unit(UNIT_IDX, unit_type2) == j)\n",
    "                    row_unit_not = (swap_unit(UNIT_IDX, unit_type1) == i) * (swap_unit(UNIT_IDX, unit_type2) != j)\n",
    "                    \n",
    "                    if (candidates[k][row_unit].any()) and (not candidates[k][row_unit_not].any()):\n",
    "                        candidates[k] *= ~((swap_unit(UNIT_IDX, unit_type1) != i) * (swap_unit(UNIT_IDX, unit_type2) == j))\n",
    "\n",
    "    return GameState(board, candidates, \"Intersection Removal\")"
   ]
  },
  {
   "cell_type": "code",
   "execution_count": 26,
   "metadata": {},
   "outputs": [
    {
     "data": {
      "text/plain": [
       "array([[0, 0, 0, 0, 0, 0, 0, 0, 0],\n",
       "       [1, 1, 1, 1, 1, 1, 1, 1, 1],\n",
       "       [2, 2, 2, 2, 2, 2, 2, 2, 2],\n",
       "       [3, 3, 3, 3, 3, 3, 3, 3, 3],\n",
       "       [4, 4, 4, 4, 4, 4, 4, 4, 4],\n",
       "       [5, 5, 5, 5, 5, 5, 5, 5, 5],\n",
       "       [6, 6, 6, 6, 6, 6, 6, 6, 6],\n",
       "       [7, 7, 7, 7, 7, 7, 7, 7, 7],\n",
       "       [8, 8, 8, 8, 8, 8, 8, 8, 8]])"
      ]
     },
     "execution_count": 26,
     "metadata": {},
     "output_type": "execute_result"
    }
   ],
   "source": [
    "UNIT_IDX"
   ]
  },
  {
   "cell_type": "code",
   "execution_count": 3,
   "metadata": {},
   "outputs": [],
   "source": [
    "# SudokuGame([gss_ir], board_names=[\"IR\"])"
   ]
  },
  {
   "cell_type": "code",
   "execution_count": 4,
   "metadata": {},
   "outputs": [
    {
     "name": "stdout",
     "output_type": "stream",
     "text": [
      "1 0\n",
      "1 5\n",
      "2 1\n",
      "2 4\n",
      "2 6\n",
      "3 0\n",
      "3 1\n",
      "3 2\n",
      "3 7\n",
      "5 1\n",
      "5 3\n",
      "6 1\n",
      "6 4\n",
      "6 7\n",
      "8 0\n",
      "8 2\n",
      "8 3\n"
     ]
    }
   ],
   "source": [
    "# X-Wing\n",
    "\n",
    "# unit = \"row\"\n",
    "# check for rows where there are exactly 2 candidates for a number\n",
    "# check if there exists a pair of rows where the candidates are in the same columns but in different boxes\n",
    "# if so, remove the candidates from the columns of the pairs.\n",
    "\n",
    "board, candidates = gss_ir[-1]\n",
    "# for unit in swap_unit(candidates, \"row\"):\n",
    "for n, unit in argwhere_sets(candidates.sum(2), 2):\n",
    "    "
   ]
  },
  {
   "cell_type": "code",
   "execution_count": 13,
   "metadata": {},
   "outputs": [
    {
     "data": {
      "text/plain": [
       "array([ True,  True, False, False, False, False, False, False, False,\n",
       "       False, False, False, False, False, False, False, False])"
      ]
     },
     "execution_count": 13,
     "metadata": {},
     "output_type": "execute_result"
    }
   ],
   "source": []
  },
  {
   "cell_type": "code",
   "execution_count": 19,
   "metadata": {},
   "outputs": [
    {
     "name": "stdout",
     "output_type": "stream",
     "text": [
      "[0 0 0 1 1 0 0 0 0]\n",
      "[1 0 0 1 0 0 0 0 0]\n"
     ]
    }
   ],
   "source": [
    "n_list, unit_list = where_sets(candidates.sum(2), 2)\n",
    "for unit in unit_list[n_list == 1]:\n",
    "    print(candidates[1, unit])"
   ]
  },
  {
   "cell_type": "code",
   "execution_count": 25,
   "metadata": {},
   "outputs": [
    {
     "data": {
      "text/plain": [
       "array([[0, 0, 0, 1, 1, 0, 0, 0, 0],\n",
       "       [1, 0, 0, 1, 0, 0, 0, 0, 0],\n",
       "       [1, 0, 0, 0, 1, 0, 0, 0, 0],\n",
       "       [0, 0, 0, 1, 1, 0, 0, 0, 0],\n",
       "       [1, 0, 1, 0, 0, 0, 0, 0, 0],\n",
       "       [1, 0, 0, 0, 0, 0, 0, 1, 0],\n",
       "       [1, 0, 0, 0, 0, 0, 0, 1, 0],\n",
       "       [0, 0, 0, 1, 1, 0, 0, 0, 0],\n",
       "       [0, 0, 0, 1, 1, 0, 0, 0, 0],\n",
       "       [0, 0, 0, 0, 1, 1, 0, 0, 0],\n",
       "       [0, 0, 0, 0, 1, 1, 0, 0, 0],\n",
       "       [0, 0, 0, 0, 0, 0, 0, 1, 1],\n",
       "       [0, 0, 1, 1, 0, 0, 0, 0, 0],\n",
       "       [1, 0, 1, 0, 0, 0, 0, 0, 0],\n",
       "       [0, 0, 0, 0, 1, 0, 0, 1, 0],\n",
       "       [0, 0, 0, 0, 1, 0, 0, 0, 1],\n",
       "       [0, 0, 0, 0, 0, 0, 0, 1, 1]])"
      ]
     },
     "execution_count": 25,
     "metadata": {},
     "output_type": "execute_result"
    }
   ],
   "source": [
    "candidates[n_list, unit_list]"
   ]
  },
  {
   "cell_type": "code",
   "execution_count": null,
   "metadata": {},
   "outputs": [],
   "source": []
  },
  {
   "cell_type": "code",
   "execution_count": 5,
   "metadata": {},
   "outputs": [
    {
     "data": {
      "text/plain": [
       "array([[False, False, False, False, False, False, False, False, False],\n",
       "       [False, False, False, False, False, False, False, False, False],\n",
       "       [False, False, False, False, False, False, False, False, False],\n",
       "       [False, False, False, False, False, False, False, False, False],\n",
       "       [ True,  True,  True,  True,  True,  True,  True,  True,  True],\n",
       "       [False, False, False, False, False, False, False, False, False],\n",
       "       [False, False, False, False, False, False, False, False, False],\n",
       "       [False, False, False, False, False, False, False, False, False],\n",
       "       [False, False, False, False, False, False, False, False, False]])"
      ]
     },
     "execution_count": 5,
     "metadata": {},
     "output_type": "execute_result"
    }
   ],
   "source": [
    "# Y-Wing\n",
    "# AB connected via two different units to AC and BC, then remove all candidates of C from the intersection of AC and BC\n",
    "\n",
    "i,j = 4,4\n",
    "x,y = 4,7\n",
    "\n",
    "influence = lambda i,j: ~((swap_unit(UNIT_IDX, \"row\") != i) * (swap_unit(UNIT_IDX, \"col\") != j) * swap_unit(UNIT_IDX != (i // 3)*3 + (j // 3), \"box\"))\n",
    "\n",
    "AC = x,y\n",
    "BC = i,j\n",
    "AC_BC_intersection = influence(*AC) * influence(*BC)\n",
    "AC_BC_intersection"
   ]
  }
 ],
 "metadata": {
  "kernelspec": {
   "display_name": "Python 3",
   "language": "python",
   "name": "python3"
  },
  "language_info": {
   "codemirror_mode": {
    "name": "ipython",
    "version": 3
   },
   "file_extension": ".py",
   "mimetype": "text/x-python",
   "name": "python",
   "nbconvert_exporter": "python",
   "pygments_lexer": "ipython3",
   "version": "3.9.13"
  }
 },
 "nbformat": 4,
 "nbformat_minor": 2
}
